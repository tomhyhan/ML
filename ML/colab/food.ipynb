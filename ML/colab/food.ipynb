{
  "nbformat": 4,
  "nbformat_minor": 0,
  "metadata": {
    "colab": {
      "provenance": [],
      "gpuType": "T4",
      "authorship_tag": "ABX9TyO2db806fILMHDJ8KNvWdt/",
      "include_colab_link": true
    },
    "kernelspec": {
      "name": "python3",
      "display_name": "Python 3"
    },
    "language_info": {
      "name": "python"
    },
    "accelerator": "GPU"
  },
  "cells": [
    {
      "cell_type": "markdown",
      "metadata": {
        "id": "view-in-github",
        "colab_type": "text"
      },
      "source": [
        "<a href=\"https://colab.research.google.com/github/tomhyhan/ML/blob/main/ML/colab/food.ipynb\" target=\"_parent\"><img src=\"https://colab.research.google.com/assets/colab-badge.svg\" alt=\"Open In Colab\"/></a>"
      ]
    },
    {
      "cell_type": "code",
      "execution_count": 12,
      "metadata": {
        "id": "NmPzoiNd3KHm"
      },
      "outputs": [],
      "source": [
        "import torch as t\n",
        "import torchvision\n",
        "import torchvision.transforms as tt\n",
        "from torch.utils.data import Subset, random_split"
      ]
    },
    {
      "cell_type": "code",
      "source": [
        "def load_data():\n",
        "    transform = tt.Compose([\n",
        "        tt.Resize(56),\n",
        "        tt.CenterCrop(28),\n",
        "        tt.ToTensor(),\n",
        "        tt.Normalize(mean=[0.485, 0.456, 0.406], std=[0.229, 0.224, 0.225])\n",
        "    ])\n",
        "    food101_data =torchvision.datasets.Food101(download=True, root=\"./\", transform=transform)\n",
        "    print(\"transform done\")\n",
        "    subset_indices = set()\n",
        "    subset_images = []\n",
        "    for i in range(len(food101_data)):\n",
        "        if i % 1000 == 0:\n",
        "            print(\"iter: \", i)\n",
        "            print(subset_indices)\n",
        "        subset_indices.add(food101_data[i][1])\n",
        "        subset_images.append(i)\n",
        "        if len(subset_indices) > 20:\n",
        "            break\n",
        "    food101_subset = Subset(food101_data, subset_images)\n",
        "    print(\"len: \", len(food101_subset))\n",
        "    traning_i = int(len(food101_subset) * 0.9)\n",
        "    test_i = len(food101_subset) - traning_i\n",
        "    f_train, f_test = random_split(food101_subset, [traning_i, test_i])\n",
        "    return f_train, f_test\n",
        "\n",
        "f_train, f_test = load_data()\n",
        "print(len(f_train), len(f_test))"
      ],
      "metadata": {
        "colab": {
          "base_uri": "https://localhost:8080/"
        },
        "id": "RN6qSzdc3PCr",
        "outputId": "372e3ced-7ee6-4b70-9818-e5242d3f5d79"
      },
      "execution_count": 17,
      "outputs": [
        {
          "output_type": "stream",
          "name": "stdout",
          "text": [
            "transform done\n",
            "iter:  0\n",
            "set()\n",
            "iter:  1000\n",
            "{54, 23}\n",
            "iter:  2000\n",
            "{85, 54, 23}\n",
            "iter:  3000\n",
            "{86, 85, 54, 23}\n",
            "iter:  4000\n",
            "{77, 23, 85, 86, 54, 92}\n",
            "iter:  5000\n",
            "{73, 77, 23, 85, 86, 54, 92}\n",
            "iter:  6000\n",
            "{4, 73, 77, 23, 85, 86, 54, 92}\n",
            "iter:  7000\n",
            "{4, 39, 73, 77, 48, 23, 85, 86, 54, 92}\n",
            "iter:  8000\n",
            "{96, 4, 39, 73, 77, 48, 23, 85, 86, 54, 92}\n",
            "iter:  9000\n",
            "{96, 4, 70, 39, 73, 77, 48, 23, 85, 86, 54, 92}\n",
            "iter:  10000\n",
            "{96, 4, 70, 39, 73, 77, 78, 48, 81, 23, 85, 86, 54, 92}\n",
            "iter:  11000\n",
            "{96, 4, 70, 39, 73, 77, 78, 48, 81, 80, 23, 85, 86, 54, 92}\n",
            "iter:  12000\n",
            "{96, 4, 70, 39, 7, 73, 77, 78, 48, 81, 80, 23, 85, 86, 54, 92}\n",
            "iter:  13000\n",
            "{96, 0, 4, 70, 39, 7, 73, 6, 77, 78, 48, 81, 80, 23, 85, 86, 54, 92}\n",
            "iter:  14000\n",
            "{0, 4, 6, 7, 23, 26, 39, 48, 54, 70, 73, 77, 78, 80, 81, 85, 86, 92, 96}\n",
            "iter:  15000\n",
            "{0, 4, 6, 7, 23, 26, 39, 48, 54, 70, 73, 77, 78, 80, 81, 84, 85, 86, 92, 96}\n",
            "len:  15001\n",
            "13500 1501\n"
          ]
        }
      ]
    },
    {
      "cell_type": "code",
      "source": [
        "t.cuda.is_available()\n",
        "print(len(f_train))"
      ],
      "metadata": {
        "colab": {
          "base_uri": "https://localhost:8080/"
        },
        "id": "R92N9XQh4ors",
        "outputId": "d82702fc-0507-4ccf-8317-f34b3223c74b"
      },
      "execution_count": 19,
      "outputs": [
        {
          "output_type": "stream",
          "name": "stdout",
          "text": [
            "13500\n"
          ]
        }
      ]
    },
    {
      "cell_type": "code",
      "source": [
        "print(len(f_train))"
      ],
      "metadata": {
        "colab": {
          "base_uri": "https://localhost:8080/"
        },
        "id": "P3YfYduB4vpt",
        "outputId": "9b64ecf0-4c3e-432c-fd55-484c62b9535d"
      },
      "execution_count": 20,
      "outputs": [
        {
          "output_type": "stream",
          "name": "stdout",
          "text": [
            "13500\n"
          ]
        }
      ]
    }
  ]
}