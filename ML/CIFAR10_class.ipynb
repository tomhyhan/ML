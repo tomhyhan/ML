{
  "nbformat": 4,
  "nbformat_minor": 0,
  "metadata": {
    "colab": {
      "provenance": [],
      "authorship_tag": "ABX9TyPANekf5slK8ITAZYQ+xRMe",
      "include_colab_link": true
    },
    "kernelspec": {
      "name": "python3",
      "display_name": "Python 3"
    },
    "language_info": {
      "name": "python"
    }
  },
  "cells": [
    {
      "cell_type": "markdown",
      "metadata": {
        "id": "view-in-github",
        "colab_type": "text"
      },
      "source": [
        "<a href=\"https://colab.research.google.com/github/tomhyhan/ML/blob/main/ML/CIFAR10_class.ipynb\" target=\"_parent\"><img src=\"https://colab.research.google.com/assets/colab-badge.svg\" alt=\"Open In Colab\"/></a>"
      ]
    },
    {
      "cell_type": "code",
      "execution_count": 13,
      "metadata": {
        "id": "IQJjUNSBD4B4"
      },
      "outputs": [],
      "source": [
        "import torch as t\n",
        "import torchvision as tv\n",
        "from torchvision.transforms import v2\n",
        "import torch.nn as nn"
      ]
    },
    {
      "cell_type": "code",
      "source": [
        "def load_data():\n",
        "    transform = v2.Compose([\n",
        "        v2.ToTensor(),\n",
        "        v2.Normalize((0.4914, 0.4822, 0.4465), (0.2023, 0.2154, 0.229))\n",
        "    ])\n",
        "    train_data = tv.datasets.CIFAR10(root=\"./\", download=True, transform=transform, train=True)\n",
        "    test_data = tv.datasets.CIFAR10(root=\"./\", transform=transform, train=False)\n",
        "\n",
        "    return train_data, test_data\n",
        "train_data, test_data = load_data()\n",
        "print(len(train_data), len(test_data))\n"
      ],
      "metadata": {
        "colab": {
          "base_uri": "https://localhost:8080/"
        },
        "id": "XSpZ2my4E5q2",
        "outputId": "962aa477-da62-4196-a7d9-dd7a5a99cbab"
      },
      "execution_count": 12,
      "outputs": [
        {
          "output_type": "stream",
          "name": "stdout",
          "text": [
            "Files already downloaded and verified\n",
            "50000 10000\n"
          ]
        }
      ]
    },
    {
      "cell_type": "code",
      "source": [
        "\n",
        "class CNN(nn.Module):\n",
        "    def __init__(self):\n",
        "        super(CNN, self).__init__()\n",
        "        self.build_layers()\n",
        "\n",
        "    def build_layers(self):\n",
        "        # 3, 32, 32\n",
        "        self.conv1 = nn.Sequential(\n",
        "            nn.Conv2d(3, 32, kernel_size=3, padding=1),\n",
        "            nn.ReLU(),\n",
        "            nn.MaxPool2d(kernel_size=2, stride=2)\n",
        "        )\n",
        "        # 32 16 16\n",
        "        self.conv1 = nn.Sequential(\n",
        "            nn.Conv2d(32, 64, kernel_size=3, padding=1),\n",
        "            nn.ReLU(),\n",
        "            nn.MaxPool2d(kernel_size=2, stride=2)\n",
        "        )\n",
        "        # 64 8 8\n",
        "        self.conv1 = nn.Sequential(\n",
        "            nn.Conv2d(64, 128, kernel_size=3, padding=1),\n",
        "            nn.ReLU(),\n",
        "            nn.MaxPool2d(kernel_size=2, stride=2)\n",
        "        )\n",
        "        self.fc1 = nn.Sequential(\n",
        "            nn.Linear(128 * 4 * 4, 625),\n",
        "            nn.ReLu(),\n",
        "            nn.Dropout(p = 0.5)\n",
        "        )\n",
        "        self.fc2 = nn.Linear(625, 10)\n",
        "\n",
        "        self.opt = t.optim.Adam(self.parameters(), lr=0.001)\n",
        "        self.cost_fn = nn.CrossEntropyLoss()\n",
        "\n",
        "    def forward(self, x):\n",
        "        x = self.conv1(x)\n",
        "        x = self.conv2(x)\n",
        "        x = self.conv3(x)\n",
        "        x = x.view(x[0], -1)\n",
        "        x = self.fc1(x)\n",
        "        x = self.fc2(x)\n",
        "        return x\n",
        "\n",
        "    def train_model(self, image, target):\n",
        "        self.train()\n",
        "\n",
        "        self.opt.zero_grad()\n",
        "        predict = self.forward(image)\n",
        "        cost = self.cost_fn(predict, target)\n",
        "        cost.backward()\n",
        "        self.opt.step()\n",
        "\n",
        "    def accuracy():\n",
        "        pass"
      ],
      "metadata": {
        "id": "yJEwAoSGPXxX"
      },
      "execution_count": null,
      "outputs": []
    },
    {
      "cell_type": "code",
      "source": [
        "learning_rate = 0.001\n",
        "batch_size = 100\n",
        "epochs = 5\n",
        "\n",
        "for epoch in range(epochs):\n",
        "\n",
        "\n",
        "    pass"
      ],
      "metadata": {
        "id": "yyOAIoMkP8Zd"
      },
      "execution_count": null,
      "outputs": []
    }
  ]
}